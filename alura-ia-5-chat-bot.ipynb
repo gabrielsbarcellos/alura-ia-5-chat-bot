{
  "nbformat": 4,
  "nbformat_minor": 0,
  "metadata": {
    "colab": {
      "provenance": [],
      "authorship_tag": "ABX9TyOlm+aQvTi3Qbfdnjh6UCar",
      "include_colab_link": true
    },
    "kernelspec": {
      "name": "python3",
      "display_name": "Python 3"
    },
    "language_info": {
      "name": "python"
    }
  },
  "cells": [
    {
      "cell_type": "markdown",
      "metadata": {
        "id": "view-in-github",
        "colab_type": "text"
      },
      "source": [
        "<a href=\"https://colab.research.google.com/github/gabrielsbarcellos/alura-ia-5-chat-bot/blob/main/alura-ia-5-chat-bot.ipynb\" target=\"_parent\"><img src=\"https://colab.research.google.com/assets/colab-badge.svg\" alt=\"Open In Colab\"/></a>"
      ]
    },
    {
      "cell_type": "code",
      "execution_count": null,
      "metadata": {
        "id": "n-_3iJlfmiDd"
      },
      "outputs": [],
      "source": [
        "!pip install -q -U google-generativeai"
      ]
    },
    {
      "cell_type": "code",
      "source": [
        "import google.generativeai as gemini\n",
        "\n",
        "# importa do google colab um objeto especial chamado userdata o qual\n",
        "# pode conter diversas variaveis de ambiente visiveis apenas no colab e apenas\n",
        "# pelo usuário dono das variaveis.\n",
        "from google.colab import userdata\n",
        "\n",
        "# inicia a variavel GOOGLE_API_KEY com o valor real da api key do usuario logado,\n",
        "# (considerando que ela esteja de fato salva no secrets do colab e com a mesma\n",
        "# nomenclatura, MY_GOOGLE_API_KEY)\n",
        "GOOGLE_API_KEY = userdata.get('MY_GOOGLE_API_KEY')\n",
        "\n",
        "gemini.configure(api_key=GOOGLE_API_KEY)"
      ],
      "metadata": {
        "id": "C5SdLssemm7K"
      },
      "execution_count": null,
      "outputs": []
    },
    {
      "cell_type": "code",
      "source": [
        "generation_config = {\n",
        "    \"candidate_count\": 1,\n",
        "    \"temperature\": 0.5,\n",
        "    \"top_p\": 0.95,\n",
        "    \"top_k\": 35\n",
        "}\n"
      ],
      "metadata": {
        "id": "lSiWCo6BmqM5"
      },
      "execution_count": null,
      "outputs": []
    },
    {
      "cell_type": "code",
      "source": [
        "# BLOCK = [\"BLOCK_NONE\",\"BLOCK_FEW\",\"BLOCK_SOME\",\"BLOCK_MOST\"]\n",
        "\n",
        "safety_settings = {\n",
        "    \"HARASSMENT\": \"BLOCK_NONE\",\n",
        "    \"HATE\": \"BLOCK_NONE\",\n",
        "    \"SEXUAL\": \"BLOCK_NONE\",\n",
        "    \"DANGEROUS\": \"BLOCK_NONE\"\n",
        "}"
      ],
      "metadata": {
        "id": "aso0ytEpms7-"
      },
      "execution_count": null,
      "outputs": []
    },
    {
      "cell_type": "code",
      "source": [
        "model = gemini.GenerativeModel(\n",
        "    model_name='gemini-1.0-pro',\n",
        "    generation_config=generation_config,\n",
        "    safety_settings = safety_settings\n",
        ")"
      ],
      "metadata": {
        "id": "EiCLJJvhmvN3"
      },
      "execution_count": null,
      "outputs": []
    },
    {
      "cell_type": "code",
      "source": [
        "response = model.generate_content('oi')\n",
        "print(response.text)"
      ],
      "metadata": {
        "colab": {
          "base_uri": "https://localhost:8080/",
          "height": 34
        },
        "id": "BmLEVHA9xh_U",
        "outputId": "d3a7ff4b-64fc-4835-ff61-3c37ac3f2b30"
      },
      "execution_count": null,
      "outputs": [
        {
          "output_type": "stream",
          "name": "stdout",
          "text": [
            "Olá! Como posso ajudá-lo hoje?\n"
          ]
        }
      ]
    },
    {
      "cell_type": "code",
      "source": [
        "chat = model.start_chat(history=[])"
      ],
      "metadata": {
        "id": "tItLPWKHmxu4"
      },
      "execution_count": null,
      "outputs": []
    },
    {
      "cell_type": "code",
      "source": [
        "prompt = ''\n",
        "while prompt != 'fim':\n",
        "  prompt = input('Esperando texto: ')\n",
        "  if(prompt == 'fim'):\n",
        "    print('Chat finalizado!')\n",
        "  else:\n",
        "    response = chat.send_message(prompt)\n",
        "    print(response.text)\n"
      ],
      "metadata": {
        "colab": {
          "base_uri": "https://localhost:8080/",
          "height": 86
        },
        "id": "36DBEvw2uYdD",
        "outputId": "e19c9064-8a80-4456-9b9f-0bb821c556fe"
      },
      "execution_count": null,
      "outputs": [
        {
          "output_type": "stream",
          "name": "stdout",
          "text": [
            "Esperando texto: oi\n",
            "Olá! Como posso ajudá-lo hoje?\n",
            "Esperando texto: fim\n",
            "Chat finalizado!\n"
          ]
        }
      ]
    }
  ]
}